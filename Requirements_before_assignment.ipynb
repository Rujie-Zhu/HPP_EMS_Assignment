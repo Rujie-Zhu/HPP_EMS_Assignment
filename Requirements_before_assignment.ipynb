{
 "cells": [
  {
   "cell_type": "code",
   "execution_count": null,
   "id": "253f10b2",
   "metadata": {
    "vscode": {
     "languageId": "plaintext"
    }
   },
   "outputs": [],
   "source": [
    "# Clone the GitHub Repository in Colab so that we can access the data required to run the script\n",
    "!git clone https://github.com/Rujie-Zhu/HPP_EMS_Assignment.git"
   ]
  },
  {
   "cell_type": "markdown",
   "id": "05a00177",
   "metadata": {},
   "source": [
    "##### To avoid losing your progress, save the cloned folder and script in your google drive."
   ]
  },
  {
   "cell_type": "code",
   "execution_count": null,
   "id": "118fdffc",
   "metadata": {
    "vscode": {
     "languageId": "plaintext"
    }
   },
   "outputs": [],
   "source": [
    "# First mount your Google Drive\n",
    "from google.colab import drive\n",
    "drive.mount('/content/drive')\n",
    "\n",
    "# Then copy the cloned repository to your folder\n",
    "!cp -r \"/content/HPP_EMS_Assignment/\" \"/content/drive/My Drive/HPP_EMS_Assignment/\""
   ]
  },
  {
   "cell_type": "markdown",
   "id": "87a53a20",
   "metadata": {},
   "source": [
    "##### Now you should navigate to where you have saved the cloned repository in your Google Drive (My Drive/HPP_EMS_Assignment/). And start the assignment using the Results_analysis_assignment.ipynb file"
   ]
  }
 ],
 "metadata": {
  "language_info": {
   "name": "python"
  }
 },
 "nbformat": 4,
 "nbformat_minor": 5
}
